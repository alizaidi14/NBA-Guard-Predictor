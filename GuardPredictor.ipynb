{
 "cells": [
  {
   "cell_type": "code",
   "execution_count": 1,
   "metadata": {},
   "outputs": [],
   "source": [
    "import pandas as pd\n",
    "import numpy as np"
   ]
  },
  {
   "cell_type": "code",
   "execution_count": 2,
   "metadata": {},
   "outputs": [],
   "source": [
    "stats = pd.read_csv('2019-2020.csv')"
   ]
  },
  {
   "cell_type": "code",
   "execution_count": 3,
   "metadata": {},
   "outputs": [
    {
     "name": "stdout",
     "output_type": "stream",
     "text": [
      "<class 'pandas.core.frame.DataFrame'>\n",
      "RangeIndex: 591 entries, 0 to 590\n",
      "Data columns (total 24 columns):\n",
      " #   Column         Non-Null Count  Dtype  \n",
      "---  ------         --------------  -----  \n",
      " 0   FULL NAME      591 non-null    object \n",
      " 1   POS            591 non-null    object \n",
      " 2   Guard          591 non-null    int64  \n",
      " 3   MPG            591 non-null    float64\n",
      " 4   Usage Rate     591 non-null    float64\n",
      " 5   Turnover Rate  589 non-null    float64\n",
      " 6   FTA            591 non-null    int64  \n",
      " 7   FT%            591 non-null    float64\n",
      " 8   2PA            591 non-null    int64  \n",
      " 9   2P%            591 non-null    float64\n",
      " 10  3PA            591 non-null    int64  \n",
      " 11  3P%            591 non-null    float64\n",
      " 12  eFG%           589 non-null    float64\n",
      " 13  TS%            589 non-null    float64\n",
      " 14  PPG            591 non-null    float64\n",
      " 15  RPG            591 non-null    float64\n",
      " 16  TRB%           591 non-null    float64\n",
      " 17  APG            591 non-null    float64\n",
      " 18  AST%           591 non-null    float64\n",
      " 19  SPG            591 non-null    float64\n",
      " 20  BPG            591 non-null    float64\n",
      " 21  TOPG           591 non-null    float64\n",
      " 22  ORTG           569 non-null    float64\n",
      " 23  DRTG           569 non-null    float64\n",
      "dtypes: float64(18), int64(4), object(2)\n",
      "memory usage: 110.9+ KB\n"
     ]
    }
   ],
   "source": [
    "stats.info()"
   ]
  },
  {
   "cell_type": "code",
   "execution_count": 4,
   "metadata": {},
   "outputs": [],
   "source": [
    "dropped = ['FULL NAME', 'POS']\n",
    "stats = stats.dropna()\n",
    "stats = stats.drop(['FULL NAME', 'POS'], axis=1)"
   ]
  },
  {
   "cell_type": "code",
   "execution_count": 5,
   "metadata": {},
   "outputs": [
    {
     "name": "stdout",
     "output_type": "stream",
     "text": [
      "<class 'pandas.core.frame.DataFrame'>\n",
      "Int64Index: 569 entries, 0 to 590\n",
      "Data columns (total 22 columns):\n",
      " #   Column         Non-Null Count  Dtype  \n",
      "---  ------         --------------  -----  \n",
      " 0   Guard          569 non-null    int64  \n",
      " 1   MPG            569 non-null    float64\n",
      " 2   Usage Rate     569 non-null    float64\n",
      " 3   Turnover Rate  569 non-null    float64\n",
      " 4   FTA            569 non-null    int64  \n",
      " 5   FT%            569 non-null    float64\n",
      " 6   2PA            569 non-null    int64  \n",
      " 7   2P%            569 non-null    float64\n",
      " 8   3PA            569 non-null    int64  \n",
      " 9   3P%            569 non-null    float64\n",
      " 10  eFG%           569 non-null    float64\n",
      " 11  TS%            569 non-null    float64\n",
      " 12  PPG            569 non-null    float64\n",
      " 13  RPG            569 non-null    float64\n",
      " 14  TRB%           569 non-null    float64\n",
      " 15  APG            569 non-null    float64\n",
      " 16  AST%           569 non-null    float64\n",
      " 17  SPG            569 non-null    float64\n",
      " 18  BPG            569 non-null    float64\n",
      " 19  TOPG           569 non-null    float64\n",
      " 20  ORTG           569 non-null    float64\n",
      " 21  DRTG           569 non-null    float64\n",
      "dtypes: float64(18), int64(4)\n",
      "memory usage: 102.2 KB\n"
     ]
    }
   ],
   "source": [
    "stats.info()"
   ]
  },
  {
   "cell_type": "code",
   "execution_count": 6,
   "metadata": {},
   "outputs": [],
   "source": [
    "from sklearn.model_selection import train_test_split"
   ]
  },
  {
   "cell_type": "code",
   "execution_count": 7,
   "metadata": {},
   "outputs": [],
   "source": [
    "X = stats.drop('Guard',axis=1)\n",
    "y = stats['Guard']\n",
    "X_train, X_test, y_train, y_test = train_test_split(X, y, test_size=0.30, random_state=42)"
   ]
  },
  {
   "cell_type": "code",
   "execution_count": 8,
   "metadata": {},
   "outputs": [],
   "source": [
    "from sklearn.tree import DecisionTreeClassifier"
   ]
  },
  {
   "cell_type": "code",
   "execution_count": 9,
   "metadata": {},
   "outputs": [],
   "source": [
    "dtree = DecisionTreeClassifier(class_weight=None, criterion='gini', max_depth=None,\n",
    "            max_features=None, max_leaf_nodes=None, min_samples_leaf=1,\n",
    "            min_samples_split=2, min_weight_fraction_leaf=0.0, random_state=None, splitter='best')"
   ]
  },
  {
   "cell_type": "code",
   "execution_count": 10,
   "metadata": {},
   "outputs": [
    {
     "data": {
      "text/plain": [
       "DecisionTreeClassifier()"
      ]
     },
     "execution_count": 10,
     "metadata": {},
     "output_type": "execute_result"
    }
   ],
   "source": [
    "dtree.fit(X_train,y_train)"
   ]
  },
  {
   "cell_type": "code",
   "execution_count": 11,
   "metadata": {},
   "outputs": [],
   "source": [
    "predictions = dtree.predict(X_test)"
   ]
  },
  {
   "cell_type": "code",
   "execution_count": 12,
   "metadata": {},
   "outputs": [],
   "source": [
    "from sklearn.metrics import classification_report,confusion_matrix"
   ]
  },
  {
   "cell_type": "code",
   "execution_count": 13,
   "metadata": {},
   "outputs": [
    {
     "name": "stdout",
     "output_type": "stream",
     "text": [
      "[[96 25]\n",
      " [ 8 42]]\n",
      "              precision    recall  f1-score   support\n",
      "\n",
      "           0       0.92      0.79      0.85       121\n",
      "           1       0.63      0.84      0.72        50\n",
      "\n",
      "    accuracy                           0.81       171\n",
      "   macro avg       0.77      0.82      0.79       171\n",
      "weighted avg       0.84      0.81      0.81       171\n",
      "\n"
     ]
    }
   ],
   "source": [
    "print(confusion_matrix(y_test,predictions))\n",
    "print(classification_report(y_test,predictions))"
   ]
  },
  {
   "cell_type": "code",
   "execution_count": 14,
   "metadata": {},
   "outputs": [],
   "source": [
    "from sklearn.ensemble import RandomForestClassifier"
   ]
  },
  {
   "cell_type": "code",
   "execution_count": 15,
   "metadata": {},
   "outputs": [],
   "source": [
    "rfc = RandomForestClassifier(bootstrap=True, class_weight=None, criterion='gini',\n",
    "            max_depth=None, max_features='auto', max_leaf_nodes=None,\n",
    "            min_samples_leaf=1, min_samples_split=2,\n",
    "            min_weight_fraction_leaf=0.0, n_estimators=600, n_jobs=1,\n",
    "            oob_score=False, random_state=None, verbose=0,\n",
    "            warm_start=False)"
   ]
  },
  {
   "cell_type": "code",
   "execution_count": 16,
   "metadata": {},
   "outputs": [
    {
     "data": {
      "text/plain": [
       "RandomForestClassifier(n_estimators=600, n_jobs=1)"
      ]
     },
     "execution_count": 16,
     "metadata": {},
     "output_type": "execute_result"
    }
   ],
   "source": [
    "rfc.fit(X_train,y_train)"
   ]
  },
  {
   "cell_type": "code",
   "execution_count": 17,
   "metadata": {},
   "outputs": [],
   "source": [
    "predictions = rfc.predict(X_test)"
   ]
  },
  {
   "cell_type": "code",
   "execution_count": 18,
   "metadata": {},
   "outputs": [],
   "source": [
    "from sklearn.metrics import classification_report,confusion_matrix"
   ]
  },
  {
   "cell_type": "code",
   "execution_count": 19,
   "metadata": {},
   "outputs": [
    {
     "name": "stdout",
     "output_type": "stream",
     "text": [
      "[[103  18]\n",
      " [  8  42]]\n",
      "              precision    recall  f1-score   support\n",
      "\n",
      "           0       0.93      0.85      0.89       121\n",
      "           1       0.70      0.84      0.76        50\n",
      "\n",
      "    accuracy                           0.85       171\n",
      "   macro avg       0.81      0.85      0.83       171\n",
      "weighted avg       0.86      0.85      0.85       171\n",
      "\n"
     ]
    }
   ],
   "source": [
    "print(confusion_matrix(y_test,predictions))\n",
    "print(classification_report(y_test,predictions))"
   ]
  }
 ],
 "metadata": {
  "kernelspec": {
   "display_name": "Python 3",
   "language": "python",
   "name": "python3"
  },
  "language_info": {
   "codemirror_mode": {
    "name": "ipython",
    "version": 3
   },
   "file_extension": ".py",
   "mimetype": "text/x-python",
   "name": "python",
   "nbconvert_exporter": "python",
   "pygments_lexer": "ipython3",
   "version": "3.8.3"
  }
 },
 "nbformat": 4,
 "nbformat_minor": 4
}
